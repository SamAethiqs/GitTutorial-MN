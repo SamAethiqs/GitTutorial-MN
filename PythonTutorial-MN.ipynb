{
 "cells": [
  {
   "cell_type": "markdown",
   "metadata": {},
   "source": [
    "# Introduction Python"
   ]
  },
  {
   "cell_type": "markdown",
   "metadata": {},
   "source": [
    "Welkom bij de introductie van de python training. In de introductie behandelen we de basics van Python met de volgende onderdelen: \n",
    "- Basis operaties\n",
    "- Variabelen toewijzen\n",
    "- Data types \n",
    "- Loops en statements\n",
    "- Introductie van functies"
   ]
  },
  {
   "cell_type": "markdown",
   "metadata": {},
   "source": [
    "## De basics\n",
    "Python is een programeertaal voor algemeen gebruik en kan gebruikt worden voor bijna alles. Python is daarvoor geschikt voor het analyseren en visualiseren van data, statistiek, het bouwen van applicaties en nog veel meer! Ook kan Python gebruikt worden als rekenmachine. De basis operaties voor rekenen in python zijn `+`, `-`, `*`, `/` en `**` voor machts verheffen."
   ]
  },
  {
   "cell_type": "markdown",
   "metadata": {},
   "source": [
    "**Opdracht 1:** bereken $\\frac{2 \\cdot (3-1)^4}{\\sqrt{25}}$."
   ]
  },
  {
   "cell_type": "code",
   "execution_count": null,
   "metadata": {},
   "outputs": [],
   "source": []
  },
  {
   "cell_type": "markdown",
   "metadata": {},
   "source": [
    "## 1. Variabelen toewijzen\n",
    "Wanneer je aan het programmeren bent wil je waardes in variabelen opslaan. Dit is gemakkelijk als je deze waardes vaker wil gebruiken of als je veel waardes hebt.  "
   ]
  },
  {
   "cell_type": "code",
   "execution_count": 1,
   "metadata": {},
   "outputs": [
    {
     "data": {
      "text/plain": [
       "12"
      ]
     },
     "execution_count": 1,
     "metadata": {},
     "output_type": "execute_result"
    }
   ],
   "source": [
    "a = 6\n",
    "b = 2 \n",
    "a * b"
   ]
  },
  {
   "cell_type": "markdown",
   "metadata": {},
   "source": [
    "a en b zijn nu variabelen. Om de waardes van de variabelen op het scherm te printen wordt het statement print gebruikt."
   ]
  },
  {
   "cell_type": "code",
   "execution_count": 2,
   "metadata": {},
   "outputs": [
    {
     "name": "stdout",
     "output_type": "stream",
     "text": [
      "6\n",
      "2\n",
      "12\n",
      "3.0\n"
     ]
    }
   ],
   "source": [
    "print(a)\n",
    "print(b)\n",
    "print(a * b)\n",
    "print(a / b)"
   ]
  },
  {
   "cell_type": "markdown",
   "metadata": {},
   "source": [
    "Het toevoegen van tekst is ook mogelijk door de tekst tussen haakjes te plaatsen, en een komma te plaatsen tussen de tekst en de variabele. Het is overigens niet van belang of het enkele of dubbele haakjes zijn, in Python zijn deze identiek."
   ]
  },
  {
   "cell_type": "code",
   "execution_count": 3,
   "metadata": {},
   "outputs": [
    {
     "name": "stdout",
     "output_type": "stream",
     "text": [
      "De waarde van a is 6\n"
     ]
    }
   ],
   "source": [
    "print('De waarde van a is', a)"
   ]
  },
  {
   "cell_type": "markdown",
   "metadata": {},
   "source": [
    "**Opdracht 3:** Bereken de waarde van de functie $y(x)=x^k + \\frac{1}{2}x - k\\pi$ voor $k=-1$, $k=1$ en $k=2$, met $x=1$ en $\\pi=3.14$. Wijs de waardes van $k$, $x$ en $\\pi$ toe aan variabelen. Print op het scherm welke van deze 3 waardes de grooste waarde voor y geeft"
   ]
  },
  {
   "cell_type": "code",
   "execution_count": null,
   "metadata": {},
   "outputs": [],
   "source": []
  },
  {
   "cell_type": "markdown",
   "metadata": {},
   "source": [
    "## 2. Types \n",
    "In Python wordt alles gezien als een object. Er zijn verschillende soorten objecten die data types worden genoemd. Elk data type heeft een unieke set eigenschappen. Dit zijn de meest gebruikte data types in Python:\n",
    "* integer number (int)\n",
    "* decimal number (float)\n",
    "* boolean (bool)\n",
    "* string of characters (str)\n",
    "* list of objects (list)\n",
    "* tuple of objects (tuple)\n",
    "* dictionary (dict)\n",
    "* set of objects (set)\n",
    "\n",
    "Om erachter te komen welk type een bepaald object heeft kan simpelweg de volgende command line gerund worden:"
   ]
  },
  {
   "cell_type": "code",
   "execution_count": 4,
   "metadata": {},
   "outputs": [
    {
     "name": "stdout",
     "output_type": "stream",
     "text": [
      "Variabele a is een <class 'int'>\n",
      "Variabele b is een <class 'float'>\n",
      "Variabele c is een <class 'bool'>\n",
      "Variabele d is een <class 'str'>\n",
      "Variabele e is een <class 'list'>\n",
      "Variabele f is een <class 'tuple'>\n",
      "Variabele g is een <class 'dict'>\n",
      "Variabele h is een <class 'set'>\n"
     ]
    }
   ],
   "source": [
    "a = 2 \n",
    "b = 1.2\n",
    "c = True\n",
    "d = 'Python is geweldig!'\n",
    "e = [0,1,2,3,4]\n",
    "f = (8,'aa',4,2)\n",
    "g = {0: 'waarde die behoord bij key 0', 1: 'waarde die behoord bij key 1'}\n",
    "h = {1,1,2,3,4}\n",
    "\n",
    "print('Variabele a is een', type(a))\n",
    "print('Variabele b is een', type(b))\n",
    "print('Variabele c is een', type(c))\n",
    "print('Variabele d is een', type(d))\n",
    "print('Variabele e is een', type(e))\n",
    "print('Variabele f is een', type(f))\n",
    "print('Variabele g is een', type(g))\n",
    "print('Variabele h is een', type(h))"
   ]
  },
  {
   "cell_type": "markdown",
   "metadata": {},
   "source": [
    "Objecten in Python hebben meestal atrributen en methodes. Attributen zijn andere objecten opgeslagen in het object. Methodes zijn functies behorend bij het object, wat toegang heeft tot de interne data van object. Welke attributen en methodes een object heeft hangt af van zijn data type. "
   ]
  },
  {
   "cell_type": "markdown",
   "metadata": {},
   "source": [
    "**Opdracht 4:** om een overzicht te krijgen welke attributen en methodes bij een bepaald object behoren, kan men de Tab toets gebruiken. Door `a.<Tab>` te typen krijg je een overzicht van welke attributen en methodes bij een integer horen. Dit is gelijk aan `int.<Tab>`. Probeer beide en ook voor de andere data types.  "
   ]
  },
  {
   "cell_type": "code",
   "execution_count": null,
   "metadata": {},
   "outputs": [],
   "source": []
  },
  {
   "cell_type": "markdown",
   "metadata": {},
   "source": [
    "### 1. Inladen modules"
   ]
  },
  {
   "cell_type": "markdown",
   "metadata": {},
   "source": [
    "Python is een van de meest gebruikte programmeertalen wereldwijd. Veel python ontwikkelaars delen hun werk met de python community, vaak in de vorm van API's en modules/packages. Door gebruik te maken van deze modules kunnen we ons eigen werk makkelijker en sneller maken. Zo zijn er bijvoorbeeld modules voor het inladen van Excel bestanden, modules voor data bewerking of handling, of meer geavanceerde modules voor Machine Learning. Het inladen van deze modules gebeurt doorgaans aan het begin van het script. <br> <br>\n",
    "\n",
    "Voor de opdrachten in deel 1 maken wij gebruik van de DNB data met betrekking tot pensioenfondsen. Een bekende module voor het inladen en bewerken van data is de \"pandas\" module van Python. De pandas module kan als volgt in ons script ingeladen worden:"
   ]
  },
  {
   "cell_type": "code",
   "execution_count": 6,
   "metadata": {},
   "outputs": [],
   "source": [
    "import pandas as pd"
   ]
  },
  {
   "cell_type": "markdown",
   "metadata": {},
   "source": [
    "We importeren de module onder de naam \"pd\". Dit maakt het gebruik van deze module in het vervolg wat eenvoudiger en minder omslachtig. De naam die meegegeven wordt aan een module is vrij te kiezen. Onderstaand willen we de modules \"numpy\" (voor het rekenen met vectoren) en \"matplotlib.pyplot\" (voor visualiseren van data) inladen als \"np\" en \"plt\". "
   ]
  },
  {
   "cell_type": "markdown",
   "metadata": {},
   "source": [
    "#### Opdracht 1. Vul onderstaande code aan zodat de modules juist ingeladen worden."
   ]
  },
  {
   "cell_type": "code",
   "execution_count": 7,
   "metadata": {},
   "outputs": [],
   "source": [
    "import numpy as np\n",
    "import matplotlib.pyplot as plt"
   ]
  },
  {
   "cell_type": "code",
   "execution_count": 9,
   "metadata": {},
   "outputs": [
    {
     "data": {
      "text/plain": [
       "<module 'numpy' from 'D:\\\\Anaconda3\\\\lib\\\\site-packages\\\\numpy\\\\__init__.py'>"
      ]
     },
     "execution_count": 9,
     "metadata": {},
     "output_type": "execute_result"
    }
   ],
   "source": [
    "pd."
   ]
  },
  {
   "cell_type": "code",
   "execution_count": 10,
   "metadata": {},
   "outputs": [],
   "source": [
    "import pandas as pd"
   ]
  },
  {
   "cell_type": "code",
   "execution_count": null,
   "metadata": {},
   "outputs": [],
   "source": []
  }
 ],
 "metadata": {
  "kernelspec": {
   "display_name": "Python 3",
   "language": "python",
   "name": "python3"
  },
  "language_info": {
   "codemirror_mode": {
    "name": "ipython",
    "version": 3
   },
   "file_extension": ".py",
   "mimetype": "text/x-python",
   "name": "python",
   "nbconvert_exporter": "python",
   "pygments_lexer": "ipython3",
   "version": "3.7.6"
  }
 },
 "nbformat": 4,
 "nbformat_minor": 4
}
